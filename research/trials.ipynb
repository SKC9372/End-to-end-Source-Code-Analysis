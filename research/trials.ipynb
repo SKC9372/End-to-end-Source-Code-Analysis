{
 "cells": [
  {
   "cell_type": "code",
   "execution_count": 1,
   "metadata": {},
   "outputs": [
    {
     "name": "stdout",
     "output_type": "stream",
     "text": [
      "ok\n"
     ]
    }
   ],
   "source": [
    "print('ok')"
   ]
  },
  {
   "cell_type": "code",
   "execution_count": 6,
   "metadata": {},
   "outputs": [],
   "source": [
    "from git import Repo\n",
    "from langchain.text_splitter import Language\n",
    "from langchain.document_loaders.generic import GenericLoader\n",
    "from langchain.document_loaders.parsers import LanguageParser\n",
    "from langchain.text_splitter import RecursiveCharacterTextSplitter\n",
    "\n",
    "import os \n",
    "\n",
    "from langchain_google_genai import GoogleGenerativeAIEmbeddings\n",
    "from langchain.vectorstores import Chroma\n",
    "from langchain_google_genai import ChatGoogleGenerativeAI\n",
    "from langchain.memory import ConversationSummaryMemory\n",
    "from langchain.chains import ConversationalRetrievalChain "
   ]
  },
  {
   "cell_type": "code",
   "execution_count": 4,
   "metadata": {},
   "outputs": [
    {
     "data": {
      "text/plain": [
       "'c:\\\\Users\\\\surya\\\\CampusX\\\\End-to-end-Source-Code-Analysis\\\\research'"
      ]
     },
     "execution_count": 4,
     "metadata": {},
     "output_type": "execute_result"
    }
   ],
   "source": [
    "%pwd"
   ]
  },
  {
   "cell_type": "code",
   "execution_count": 5,
   "metadata": {},
   "outputs": [],
   "source": [
    "!mkdir test_repo"
   ]
  },
  {
   "cell_type": "code",
   "execution_count": 7,
   "metadata": {},
   "outputs": [],
   "source": [
    "repo_path = \"test_repo/\"\n",
    "\n",
    "repo = Repo.clone_from('https://github.com/SKC9372/Flask-ml-project',to_path = repo_path)"
   ]
  },
  {
   "cell_type": "code",
   "execution_count": 8,
   "metadata": {},
   "outputs": [],
   "source": [
    "loader = GenericLoader.from_filesystem(\n",
    "    repo_path,\n",
    "    glob=\"**/*\",\n",
    "    suffixes= [\".py\"],\n",
    "    parser= LanguageParser(Language.PYTHON,parser_threshold=500)\n",
    "\n",
    ")"
   ]
  },
  {
   "cell_type": "code",
   "execution_count": 9,
   "metadata": {},
   "outputs": [],
   "source": [
    "documents = loader.load()"
   ]
  },
  {
   "cell_type": "code",
   "execution_count": 10,
   "metadata": {},
   "outputs": [
    {
     "data": {
      "text/plain": [
       "[Document(metadata={'source': 'test_repo\\\\app.py', 'language': <Language.PYTHON: 'python'>}, page_content='from flask import (\\n    Flask,url_for,\\n    render_template\\n)\\nfrom forms import Inputform\\nimport joblib\\nimport pandas as pd\\n\\napp = Flask(__name__)\\napp.config[\\'SECRET_KEY\\'] = \\'secret_key\\'\\n\\nmodel = joblib.load(\\'rf_model.joblib\\')\\n\\n@app.route(\\'/\\')\\n@app.route(\\'/home\\')\\ndef home():\\n    return render_template(\\'home.html\\',title=\\'Home\\')\\n\\n@app.route(\\'/predict\\',methods = [\\'GET\\',\\'POST\\'])\\ndef predict():\\n    form = Inputform()\\n    if form.validate_on_submit():\\n        X_new = pd.DataFrame(dict(\\n             airline=[form.airline.data],\\n            date_of_journey=[form.date_of_journey.data.strftime(\"%Y-%m-%d\")],\\n            source=[form.source.data],\\n            destination=[form.destination.data],\\n            dep_time=[form.dep_time.data.strftime(\"%H:%M:%S\")],\\n            arrival_time=[form.arrival_time.data.strftime(\"%H:%M:%S\")],\\n            duration=[form.duration.data],\\n            total_stops=[form.total_stops.data],\\n            additional_info=[form.add_on.data]\\n        ))\\n        prediction = model.predict(X_new)[0]\\n        message = f\"The predicted price is {prediction:,.0f} INR\"\\n    else:\\n        message = \\'Please provide valid input details!\\'\\n\\n    return render_template(\\'predict.html\\',title = \\'Predict\\',form = form,output = message)\\n\\nif __name__ == \\'__main__\\':\\n    app.run(debug=True)'),\n",
       " Document(metadata={'source': 'test_repo\\\\forms.py', 'language': <Language.PYTHON: 'python'>}, page_content=\"from flask_wtf import FlaskForm\\nfrom wtforms import (\\n    SelectField,\\n    DateField,\\n    TimeField,IntegerField,\\n    SubmitField\\n)\\nfrom wtforms.validators import DataRequired\\n\\nimport pandas as pd\\n\\ntrain_df = pd.read_csv('Data/train.csv')\\nval_df = pd.read_csv('Data/val.csv')\\nX_data = pd.concat([train_df,val_df],axis = 0).drop('price',axis=1)\\n\\nclass Inputform(FlaskForm):\\n    airline = SelectField(label='Airline',\\n                          choices=X_data.airline.unique().tolist(),\\n                          validators=[DataRequired()]\\n                          )\\n    source = SelectField(label='Source',\\n                         choices=X_data.source.unique().tolist(),\\n                         validators=[DataRequired()]\\n                         )\\n    destination = SelectField(label='Destination',\\n                         choices=X_data.destination.unique().tolist(),\\n                         validators=[DataRequired()]\\n                         )\\n    add_on = SelectField(label='add_on',\\n                         choices=X_data.additional_info.unique().tolist(),\\n                         validators=[DataRequired()]\\n                         )\\n    date_of_journey = DateField(label = 'Date of Journey',\\n                                validators=[DataRequired()]\\n                                )\\n    dep_time = TimeField(label = 'Departure Time',\\n                         validators=[DataRequired()]\\n                         )\\n    arrival_time = TimeField(label='Arrival Time',\\n                             validators=[DataRequired()]\\n                             )\\n    duration = IntegerField(label='Duration',\\n                            validators=[DataRequired()]\\n                            )\\n    total_stops = IntegerField(label='Total Stops',\\n                               validators=[DataRequired()]\\n                               )\\n    submit = SubmitField(label = 'predict')\")]"
      ]
     },
     "execution_count": 10,
     "metadata": {},
     "output_type": "execute_result"
    }
   ],
   "source": [
    "documents"
   ]
  },
  {
   "cell_type": "code",
   "execution_count": 12,
   "metadata": {},
   "outputs": [
    {
     "data": {
      "text/plain": [
       "2"
      ]
     },
     "execution_count": 12,
     "metadata": {},
     "output_type": "execute_result"
    }
   ],
   "source": [
    "len(documents)"
   ]
  },
  {
   "cell_type": "code",
   "execution_count": 13,
   "metadata": {},
   "outputs": [],
   "source": [
    "documents_splitter = RecursiveCharacterTextSplitter.from_language(language=Language.PYTHON,\n",
    "                                                                  chunk_size = 500,\n",
    "                                                                  chunk_overlap = 20)"
   ]
  },
  {
   "cell_type": "code",
   "execution_count": 14,
   "metadata": {},
   "outputs": [],
   "source": [
    "texts = documents_splitter.split_documents(documents)"
   ]
  },
  {
   "cell_type": "code",
   "execution_count": 15,
   "metadata": {},
   "outputs": [
    {
     "data": {
      "text/plain": [
       "[Document(metadata={'source': 'test_repo\\\\app.py', 'language': <Language.PYTHON: 'python'>}, page_content=\"from flask import (\\n    Flask,url_for,\\n    render_template\\n)\\nfrom forms import Inputform\\nimport joblib\\nimport pandas as pd\\n\\napp = Flask(__name__)\\napp.config['SECRET_KEY'] = 'secret_key'\\n\\nmodel = joblib.load('rf_model.joblib')\\n\\n@app.route('/')\\n@app.route('/home')\\ndef home():\\n    return render_template('home.html',title='Home')\\n\\n@app.route('/predict',methods = ['GET','POST'])\"),\n",
       " Document(metadata={'source': 'test_repo\\\\app.py', 'language': <Language.PYTHON: 'python'>}, page_content='def predict():\\n    form = Inputform()\\n    if form.validate_on_submit():\\n        X_new = pd.DataFrame(dict(\\n             airline=[form.airline.data],\\n            date_of_journey=[form.date_of_journey.data.strftime(\"%Y-%m-%d\")],\\n            source=[form.source.data],\\n            destination=[form.destination.data],\\n            dep_time=[form.dep_time.data.strftime(\"%H:%M:%S\")],\\n            arrival_time=[form.arrival_time.data.strftime(\"%H:%M:%S\")],\\n            duration=[form.duration.data],'),\n",
       " Document(metadata={'source': 'test_repo\\\\app.py', 'language': <Language.PYTHON: 'python'>}, page_content='total_stops=[form.total_stops.data],\\n            additional_info=[form.add_on.data]\\n        ))\\n        prediction = model.predict(X_new)[0]\\n        message = f\"The predicted price is {prediction:,.0f} INR\"\\n    else:\\n        message = \\'Please provide valid input details!\\''),\n",
       " Document(metadata={'source': 'test_repo\\\\app.py', 'language': <Language.PYTHON: 'python'>}, page_content=\"return render_template('predict.html',title = 'Predict',form = form,output = message)\\n\\nif __name__ == '__main__':\\n    app.run(debug=True)\"),\n",
       " Document(metadata={'source': 'test_repo\\\\forms.py', 'language': <Language.PYTHON: 'python'>}, page_content=\"from flask_wtf import FlaskForm\\nfrom wtforms import (\\n    SelectField,\\n    DateField,\\n    TimeField,IntegerField,\\n    SubmitField\\n)\\nfrom wtforms.validators import DataRequired\\n\\nimport pandas as pd\\n\\ntrain_df = pd.read_csv('Data/train.csv')\\nval_df = pd.read_csv('Data/val.csv')\\nX_data = pd.concat([train_df,val_df],axis = 0).drop('price',axis=1)\"),\n",
       " Document(metadata={'source': 'test_repo\\\\forms.py', 'language': <Language.PYTHON: 'python'>}, page_content=\"class Inputform(FlaskForm):\\n    airline = SelectField(label='Airline',\\n                          choices=X_data.airline.unique().tolist(),\\n                          validators=[DataRequired()]\\n                          )\\n    source = SelectField(label='Source',\\n                         choices=X_data.source.unique().tolist(),\\n                         validators=[DataRequired()]\\n                         )\\n    destination = SelectField(label='Destination',\"),\n",
       " Document(metadata={'source': 'test_repo\\\\forms.py', 'language': <Language.PYTHON: 'python'>}, page_content=\"choices=X_data.destination.unique().tolist(),\\n                         validators=[DataRequired()]\\n                         )\\n    add_on = SelectField(label='add_on',\\n                         choices=X_data.additional_info.unique().tolist(),\\n                         validators=[DataRequired()]\\n                         )\\n    date_of_journey = DateField(label = 'Date of Journey',\\n                                validators=[DataRequired()]\\n                                )\"),\n",
       " Document(metadata={'source': 'test_repo\\\\forms.py', 'language': <Language.PYTHON: 'python'>}, page_content=\"dep_time = TimeField(label = 'Departure Time',\\n                         validators=[DataRequired()]\\n                         )\\n    arrival_time = TimeField(label='Arrival Time',\\n                             validators=[DataRequired()]\\n                             )\\n    duration = IntegerField(label='Duration',\\n                            validators=[DataRequired()]\\n                            )\\n    total_stops = IntegerField(label='Total Stops',\"),\n",
       " Document(metadata={'source': 'test_repo\\\\forms.py', 'language': <Language.PYTHON: 'python'>}, page_content=\"validators=[DataRequired()]\\n                               )\\n    submit = SubmitField(label = 'predict')\")]"
      ]
     },
     "execution_count": 15,
     "metadata": {},
     "output_type": "execute_result"
    }
   ],
   "source": [
    "texts"
   ]
  },
  {
   "cell_type": "code",
   "execution_count": 16,
   "metadata": {},
   "outputs": [],
   "source": [
    "from dotenv import load_dotenv\n",
    "load_dotenv()\n",
    "GEMINI_API_KEY = os.getenv(\"GOOGLE_API_KEY\")"
   ]
  },
  {
   "cell_type": "code",
   "execution_count": 17,
   "metadata": {},
   "outputs": [],
   "source": [
    "os.environ['GEMINI_API_KEY'] = GEMINI_API_KEY"
   ]
  },
  {
   "cell_type": "code",
   "execution_count": 18,
   "metadata": {},
   "outputs": [],
   "source": [
    "embeddings = GoogleGenerativeAIEmbeddings(model='models/embedding-001')\n"
   ]
  },
  {
   "cell_type": "code",
   "execution_count": 21,
   "metadata": {},
   "outputs": [],
   "source": [
    "vector_db = Chroma.from_documents(texts,embedding=embeddings,persist_directory= './db')"
   ]
  },
  {
   "cell_type": "code",
   "execution_count": 22,
   "metadata": {},
   "outputs": [
    {
     "name": "stderr",
     "output_type": "stream",
     "text": [
      "C:\\Users\\surya\\AppData\\Local\\Temp\\ipykernel_9288\\2766552738.py:1: LangChainDeprecationWarning: Since Chroma 0.4.x the manual persistence method is no longer supported as docs are automatically persisted.\n",
      "  vector_db.persist()\n"
     ]
    }
   ],
   "source": [
    "vector_db.persist()"
   ]
  },
  {
   "cell_type": "code",
   "execution_count": 23,
   "metadata": {},
   "outputs": [],
   "source": [
    "llm = ChatGoogleGenerativeAI(model='gemini-1.5-pro',max_tokens=500,temperature=0.3)"
   ]
  },
  {
   "cell_type": "code",
   "execution_count": 24,
   "metadata": {},
   "outputs": [
    {
     "name": "stderr",
     "output_type": "stream",
     "text": [
      "C:\\Users\\surya\\AppData\\Local\\Temp\\ipykernel_9288\\2995208689.py:1: LangChainDeprecationWarning: Please see the migration guide at: https://python.langchain.com/docs/versions/migrating_memory/\n",
      "  memory = ConversationSummaryMemory(llm=llm,memory_key=\"chat_history\",return_messages=True)\n"
     ]
    }
   ],
   "source": [
    "memory = ConversationSummaryMemory(llm=llm,memory_key=\"chat_history\",return_messages=True)"
   ]
  },
  {
   "cell_type": "code",
   "execution_count": 34,
   "metadata": {},
   "outputs": [],
   "source": [
    "qa = ConversationalRetrievalChain.from_llm(\n",
    "    llm=llm,\n",
    "    retriever=vector_db.as_retriever(search_type=\"mmr\", search_kwargs={\"k\": 3}),\n",
    "    memory=memory  # Attach memory to the chain\n",
    ")"
   ]
  },
  {
   "cell_type": "code",
   "execution_count": 36,
   "metadata": {},
   "outputs": [
    {
     "name": "stderr",
     "output_type": "stream",
     "text": [
      "WARNING:chromadb.segment.impl.vector.local_persistent_hnsw:Number of requested results 20 is greater than number of elements in index 18, updating n_results = 18\n"
     ]
    },
    {
     "name": "stdout",
     "output_type": "stream",
     "text": [
      "`Inputform` is a class that inherits from `FlaskForm`. It defines the input fields for an airline price prediction form.  It includes fields for:\n",
      "\n",
      "* **airline:** A dropdown menu (`SelectField`) populated with unique airline names from a dataset called `X_data`.\n",
      "* **source:** A dropdown menu (`SelectField`) populated with unique source locations from `X_data`.\n",
      "* **destination:** A dropdown menu (`SelectField`) for selecting the destination.  The code snippet cuts off and doesn't show how the destination choices are populated.\n",
      "\n"
     ]
    }
   ],
   "source": [
    "question = \"What is Inputform function?\"\n",
    "\n",
    "# Pass both the question and chat_history to the chain\n",
    "result = qa({\"question\": question})\n",
    "\n",
    "print(result['answer'])\n"
   ]
  },
  {
   "cell_type": "code",
   "execution_count": 37,
   "metadata": {},
   "outputs": [
    {
     "name": "stderr",
     "output_type": "stream",
     "text": [
      "WARNING:chromadb.segment.impl.vector.local_persistent_hnsw:Number of requested results 20 is greater than number of elements in index 18, updating n_results = 18\n"
     ]
    },
    {
     "name": "stdout",
     "output_type": "stream",
     "text": [
      "The provided code snippets show parts of a Flask web application for flight price prediction.  The `predict` function itself is incomplete. However, based on the available code, we can infer its purpose and reconstruct a likely implementation.\n",
      "\n",
      "**Purpose:**\n",
      "\n",
      "The `predict` function takes user input from a web form, processes it, uses a pre-trained machine learning model (`rf_model.joblib`) to predict a flight price, and likely returns the prediction to the user.\n",
      "\n",
      "**Breakdown:**\n",
      "\n",
      "1. **Input Handling:**\n",
      "   - `form = Inputform()`: Creates an instance of the `Inputform` class (defined in `forms.py`, but not provided in the context). This form likely contains fields for flight details like airline, date, source, destination, departure and arrival times, and duration.\n",
      "   - `if form.validate_on_submit():`: Checks if the form has been submitted and if all the required fields are valid.\n",
      "\n",
      "2. **Data Preprocessing:**\n",
      "   - `X_new = pd.DataFrame(...)`: Creates a Pandas DataFrame from the user's input.  Critically, it converts the input data into the correct format for the machine learning model.  Dates and times are converted to string representations using `strftime`.\n",
      "\n",
      "3. **Prediction:**\n",
      "   - This part is missing from the provided code, but it would likely look something like this:\n",
      "     ```python\n",
      "     prediction = model.predict(X_new)\n",
      "     ```\n",
      "     This line uses the loaded machine learning model (`model`) to predict the flight price based on the data in `X_new`.\n",
      "\n",
      "4. **Output:**\n",
      "   - This part is also missing. The predicted price (`prediction`) would then be displayed to the user, likely by rendering a new template or updating the existing one.  For example:\n",
      "     ```python\n",
      "     return render_template('result.html', prediction=prediction)\n",
      "     ```\n",
      "\n",
      "**Complete (Inferred) `predict` Function:**\n",
      "\n",
      "```python\n",
      "def predict():\n",
      "    form = Inputform()\n",
      "    if form.validate_on_submit():\n",
      "        X_new = pd.DataFrame(dict(\n",
      "             airline=[form.airline.data],\n",
      "            date_of_journey=[form.date_of_journey.data.strftime(\"%Y-%m-%d\")],\n",
      "            source=[form.source.data],\n",
      "\n"
     ]
    }
   ],
   "source": [
    "question = \"What is predict function? Explain in detail\"\n",
    "\n",
    "result = qa({\"question\": question})\n",
    "\n",
    "print(result['answer'])"
   ]
  },
  {
   "cell_type": "code",
   "execution_count": null,
   "metadata": {},
   "outputs": [],
   "source": []
  }
 ],
 "metadata": {
  "kernelspec": {
   "display_name": "source_code_analysis",
   "language": "python",
   "name": "python3"
  },
  "language_info": {
   "codemirror_mode": {
    "name": "ipython",
    "version": 3
   },
   "file_extension": ".py",
   "mimetype": "text/x-python",
   "name": "python",
   "nbconvert_exporter": "python",
   "pygments_lexer": "ipython3",
   "version": "3.10.15"
  }
 },
 "nbformat": 4,
 "nbformat_minor": 2
}
